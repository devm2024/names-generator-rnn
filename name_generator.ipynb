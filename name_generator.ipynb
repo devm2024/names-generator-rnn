{
 "cells": [
  {
   "cell_type": "code",
   "execution_count": 1,
   "metadata": {},
   "outputs": [
    {
     "name": "stderr",
     "output_type": "stream",
     "text": [
      "/Users/deveshmaheshwari/anaconda3/lib/python3.6/site-packages/sklearn/cross_validation.py:41: DeprecationWarning: This module was deprecated in version 0.18 in favor of the model_selection module into which all the refactored classes and functions are moved. Also note that the interface of the new CV iterators are different from that of this module. This module will be removed in 0.20.\n",
      "  \"This module will be removed in 0.20.\", DeprecationWarning)\n"
     ]
    }
   ],
   "source": [
    "import pandas as pd\n",
    "import numpy as np\n",
    "import string\n",
    "from string import digits\n",
    "import matplotlib.pyplot as plt\n",
    "%matplotlib inline\n",
    "import re\n",
    "from sklearn.cross_validation import train_test_split\n",
    "# Building a english to french translator"
   ]
  },
  {
   "cell_type": "code",
   "execution_count": 65,
   "metadata": {
    "collapsed": true
   },
   "outputs": [],
   "source": [
    "# Get the data\n",
    "names=pd.read_csv('baby-names.csv')"
   ]
  },
  {
   "cell_type": "code",
   "execution_count": 66,
   "metadata": {
    "collapsed": true
   },
   "outputs": [],
   "source": [
    "names.name=names.name.apply(lambda x: x.lower())"
   ]
  },
  {
   "cell_type": "code",
   "execution_count": 67,
   "metadata": {
    "collapsed": true
   },
   "outputs": [],
   "source": [
    "names=pd.DataFrame({'name':names.name.unique()})"
   ]
  },
  {
   "cell_type": "code",
   "execution_count": 181,
   "metadata": {},
   "outputs": [
    {
     "data": {
      "text/html": [
       "<div>\n",
       "<table border=\"1\" class=\"dataframe\">\n",
       "  <thead>\n",
       "    <tr style=\"text-align: right;\">\n",
       "      <th></th>\n",
       "      <th>name</th>\n",
       "      <th>target</th>\n",
       "    </tr>\n",
       "  </thead>\n",
       "  <tbody>\n",
       "    <tr>\n",
       "      <th>0</th>\n",
       "      <td>\\tjohn</td>\n",
       "      <td>john\\n</td>\n",
       "    </tr>\n",
       "    <tr>\n",
       "      <th>1</th>\n",
       "      <td>\\twilliam</td>\n",
       "      <td>william\\n</td>\n",
       "    </tr>\n",
       "    <tr>\n",
       "      <th>2</th>\n",
       "      <td>\\tjames</td>\n",
       "      <td>james\\n</td>\n",
       "    </tr>\n",
       "    <tr>\n",
       "      <th>3</th>\n",
       "      <td>\\tcharles</td>\n",
       "      <td>charles\\n</td>\n",
       "    </tr>\n",
       "    <tr>\n",
       "      <th>4</th>\n",
       "      <td>\\tgeorge</td>\n",
       "      <td>george\\n</td>\n",
       "    </tr>\n",
       "  </tbody>\n",
       "</table>\n",
       "</div>"
      ],
      "text/plain": [
       "        name     target\n",
       "0     \\tjohn     john\\n\n",
       "1  \\twilliam  william\\n\n",
       "2    \\tjames    james\\n\n",
       "3  \\tcharles  charles\\n\n",
       "4   \\tgeorge   george\\n"
      ]
     },
     "execution_count": 181,
     "metadata": {},
     "output_type": "execute_result"
    }
   ],
   "source": [
    "names.head()"
   ]
  },
  {
   "cell_type": "code",
   "execution_count": 182,
   "metadata": {},
   "outputs": [],
   "source": [
    "lenght_list=[]\n",
    "for l in names.name:\n",
    "    lenght_list.append(len(l))\n",
    "max_len = np.max(lenght_list)"
   ]
  },
  {
   "cell_type": "code",
   "execution_count": 68,
   "metadata": {},
   "outputs": [],
   "source": [
    "# Append '\\t' to input to delay target by 1 timstamp\n",
    "names['name']=names.name.apply(lambda x:'\\t'+x)"
   ]
  },
  {
   "cell_type": "code",
   "execution_count": 69,
   "metadata": {
    "collapsed": true
   },
   "outputs": [],
   "source": [
    "# Append \\n to notify end of word\n",
    "names['target']=names.name.apply(lambda x:x[1:len(x)]+'\\n')"
   ]
  },
  {
   "cell_type": "code",
   "execution_count": 72,
   "metadata": {
    "collapsed": true
   },
   "outputs": [],
   "source": [
    "# Get the vocab dict\n",
    "all_chars=set()\n",
    "for name in names.name:\n",
    "    for c in name:\n",
    "        if c not in all_chars:\n",
    "            all_chars.add(c)\n",
    "all_chars.add('\\n')\n",
    "\n",
    "# max length of a name is 11\n",
    "char_to_ix = { ch:i for i,ch in enumerate(sorted(all_chars)) }\n",
    "ix_to_char = { i:ch for i,ch in enumerate(sorted(all_chars)) }"
   ]
  },
  {
   "cell_type": "code",
   "execution_count": 78,
   "metadata": {
    "collapsed": true
   },
   "outputs": [],
   "source": [
    "input_data = np.zeros((len(names.name), max_len, 28),dtype='float32')\n",
    "output_data = np.zeros((len(names.name), max_len, 28),dtype='float32')"
   ]
  },
  {
   "cell_type": "code",
   "execution_count": 79,
   "metadata": {},
   "outputs": [],
   "source": [
    "# Generate input and output data\n",
    "for i, x in enumerate(names.name):\n",
    "    for t, ch in enumerate(x):\n",
    "        input_data[i, t, char_to_ix[ch]] = 1.\n",
    "for i, x in enumerate(names.target):\n",
    "    for t, ch in enumerate(x):\n",
    "        output_data[i,t, char_to_ix[ch]] = 1."
   ]
  },
  {
   "cell_type": "code",
   "execution_count": 184,
   "metadata": {},
   "outputs": [],
   "source": [
    "from keras.layers import Input, LSTM, Embedding, Dense\n",
    "from keras.models import Model\n",
    "from keras.models import Sequential\n",
    "from keras.layers import Dense, Activation\n",
    "from keras.layers import LSTM, Dropout\n",
    "from keras.callbacks import LambdaCallback\n",
    "from keras.layers import TimeDistributed\n",
    "from keras.optimizers import RMSprop\n",
    "from keras.utils import plot_model"
   ]
  },
  {
   "cell_type": "code",
   "execution_count": 185,
   "metadata": {
    "collapsed": true
   },
   "outputs": [],
   "source": [
    "model = Sequential()\n",
    "model.add(LSTM(50, input_shape=(max_len, len(all_chars)), return_sequences=True))\n",
    "model.add(TimeDistributed(Dense(len(all_chars))))\n",
    "model.add(TimeDistributed(Activation('softmax')))\n",
    "optimizer = RMSprop(lr=0.01)\n",
    "model.compile(loss='categorical_crossentropy', optimizer=optimizer)"
   ]
  },
  {
   "cell_type": "code",
   "execution_count": 186,
   "metadata": {},
   "outputs": [
    {
     "name": "stdout",
     "output_type": "stream",
     "text": [
      "_________________________________________________________________\n",
      "Layer (type)                 Output Shape              Param #   \n",
      "=================================================================\n",
      "lstm_12 (LSTM)               (None, 12, 50)            15800     \n",
      "_________________________________________________________________\n",
      "time_distributed_33 (TimeDis (None, 12, 28)            1428      \n",
      "_________________________________________________________________\n",
      "time_distributed_34 (TimeDis (None, 12, 28)            0         \n",
      "=================================================================\n",
      "Total params: 17,228\n",
      "Trainable params: 17,228\n",
      "Non-trainable params: 0\n",
      "_________________________________________________________________\n"
     ]
    }
   ],
   "source": [
    "model.summary()"
   ]
  },
  {
   "cell_type": "code",
   "execution_count": 187,
   "metadata": {
    "collapsed": true
   },
   "outputs": [],
   "source": [
    "# Sampling function to generate new names\n",
    "def onend(epoch, logs):\n",
    "    if epoch%2==0 and epoch !=0:\n",
    "        print('----- Generating text after Epoch: %d' % epoch)\n",
    "        for i in range(0,10):\n",
    "            stop=False\n",
    "            ch='\\t'\n",
    "            counter=1\n",
    "            target_seq = np.zeros((1, max_len, 28))\n",
    "            target_seq[0, 0, char_to_ix[ch]] = 1.\n",
    "            while stop == False and counter < 10:\n",
    "                #sample the data\n",
    "                probs = model.predict_proba(target_seq, verbose=0)[:,counter-1,:]\n",
    "                c= np.random.choice(sorted(list(all_chars)), replace =False,p=probs.reshape(28))\n",
    "                #c=ix_to_char[np.argmax(probs.reshape(28))]\n",
    "                if c=='\\n':\n",
    "                    stop=True\n",
    "                else:\n",
    "                    ch=ch+c\n",
    "                    target_seq[0,counter , char_to_ix[c]] = 1.\n",
    "                    counter=counter+1\n",
    "            print(ch)\n"
   ]
  },
  {
   "cell_type": "code",
   "execution_count": 189,
   "metadata": {},
   "outputs": [
    {
     "name": "stdout",
     "output_type": "stream",
     "text": [
      "Epoch 1/3\n",
      "6782/6782 [==============================] - 8s - loss: 1.1711     \n",
      "Epoch 2/3\n",
      "6782/6782 [==============================] - 8s - loss: 1.1493     \n",
      "Epoch 3/3\n",
      "6752/6782 [============================>.] - ETA: 0s - loss: 1.1317----- Generating text after Epoch: 2\n",
      "\tandi\n",
      "\trubie\n",
      "\tcarmand\n",
      "\tpaile\n",
      "\tfranceron\n",
      "\tvenis\n",
      "\tjuline\n",
      "\tdarine\n",
      "\tjudie\n",
      "\tphon\n",
      "6782/6782 [==============================] - 8s - loss: 1.1317     \n"
     ]
    },
    {
     "data": {
      "text/plain": [
       "<keras.callbacks.History at 0x137841a20>"
      ]
     },
     "execution_count": 189,
     "metadata": {},
     "output_type": "execute_result"
    }
   ],
   "source": [
    "# fit the model\n",
    "print_callback = LambdaCallback(on_epoch_end=onend)\n",
    "model.fit(input_data, output_data, batch_size=32,epochs=3, callbacks=[print_callback])"
   ]
  },
  {
   "cell_type": "code",
   "execution_count": 141,
   "metadata": {
    "collapsed": true
   },
   "outputs": [],
   "source": []
  }
 ],
 "metadata": {
  "kernelspec": {
   "display_name": "Python 3",
   "language": "python",
   "name": "python3"
  },
  "language_info": {
   "codemirror_mode": {
    "name": "ipython",
    "version": 3
   },
   "file_extension": ".py",
   "mimetype": "text/x-python",
   "name": "python",
   "nbconvert_exporter": "python",
   "pygments_lexer": "ipython3",
   "version": "3.6.2"
  }
 },
 "nbformat": 4,
 "nbformat_minor": 2
}
